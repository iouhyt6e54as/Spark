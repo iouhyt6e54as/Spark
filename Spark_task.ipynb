{
  "nbformat": 4,
  "nbformat_minor": 0,
  "metadata": {
    "colab": {
      "provenance": []
    },
    "kernelspec": {
      "name": "python3",
      "display_name": "Python 3"
    },
    "language_info": {
      "name": "python"
    }
  },
  "cells": [
    {
      "cell_type": "code",
      "execution_count": 2,
      "metadata": {
        "id": "8t6x_MWT5hhk"
      },
      "outputs": [],
      "source": [
        "import pyspark"
      ]
    },
    {
      "cell_type": "code",
      "source": [
        "from pyspark.sql import SparkSession\n",
        "from pyspark.sql import Row\n",
        "import  pyspark.sql.functions as fun\n",
        "import numpy as np\n",
        "from pyspark.sql.types import *"
      ],
      "metadata": {
        "id": "R0zPBZ5s5qWL"
      },
      "execution_count": 3,
      "outputs": []
    },
    {
      "cell_type": "code",
      "source": [
        "spark = SparkSession.builder.getOrCreate()"
      ],
      "metadata": {
        "id": "eHQxbYHjAnMa"
      },
      "execution_count": 4,
      "outputs": []
    },
    {
      "cell_type": "code",
      "source": [
        "sc = spark.sparkContext"
      ],
      "metadata": {
        "id": "KV8vSqaTArqD"
      },
      "execution_count": 5,
      "outputs": []
    },
    {
      "cell_type": "code",
      "source": [
        "rdd = sc.parallelize(np.arange(1, 51))\n",
        "rdd.collect()"
      ],
      "metadata": {
        "colab": {
          "base_uri": "https://localhost:8080/"
        },
        "id": "G0TdeF3fAwom",
        "outputId": "bf7e9cd6-6938-4c08-be91-564449699df3"
      },
      "execution_count": 8,
      "outputs": [
        {
          "output_type": "execute_result",
          "data": {
            "text/plain": [
              "[np.int64(1),\n",
              " np.int64(2),\n",
              " np.int64(3),\n",
              " np.int64(4),\n",
              " np.int64(5),\n",
              " np.int64(6),\n",
              " np.int64(7),\n",
              " np.int64(8),\n",
              " np.int64(9),\n",
              " np.int64(10),\n",
              " np.int64(11),\n",
              " np.int64(12),\n",
              " np.int64(13),\n",
              " np.int64(14),\n",
              " np.int64(15),\n",
              " np.int64(16),\n",
              " np.int64(17),\n",
              " np.int64(18),\n",
              " np.int64(19),\n",
              " np.int64(20),\n",
              " np.int64(21),\n",
              " np.int64(22),\n",
              " np.int64(23),\n",
              " np.int64(24),\n",
              " np.int64(25),\n",
              " np.int64(26),\n",
              " np.int64(27),\n",
              " np.int64(28),\n",
              " np.int64(29),\n",
              " np.int64(30),\n",
              " np.int64(31),\n",
              " np.int64(32),\n",
              " np.int64(33),\n",
              " np.int64(34),\n",
              " np.int64(35),\n",
              " np.int64(36),\n",
              " np.int64(37),\n",
              " np.int64(38),\n",
              " np.int64(39),\n",
              " np.int64(40),\n",
              " np.int64(41),\n",
              " np.int64(42),\n",
              " np.int64(43),\n",
              " np.int64(44),\n",
              " np.int64(45),\n",
              " np.int64(46),\n",
              " np.int64(47),\n",
              " np.int64(48),\n",
              " np.int64(49),\n",
              " np.int64(50)]"
            ]
          },
          "metadata": {},
          "execution_count": 8
        }
      ]
    },
    {
      "cell_type": "code",
      "source": [
        "#sum\n",
        "total_sum = rdd.sum()\n",
        "print(f\"Sum: {total_sum}\")\n"
      ],
      "metadata": {
        "colab": {
          "base_uri": "https://localhost:8080/"
        },
        "id": "GOZ5Xf1oEMS0",
        "outputId": "2fba9240-5bbf-49c5-a986-f2a2f08ffeba"
      },
      "execution_count": 10,
      "outputs": [
        {
          "output_type": "stream",
          "name": "stdout",
          "text": [
            "Sum: 1275\n"
          ]
        }
      ]
    },
    {
      "cell_type": "code",
      "source": [
        "#Count\n",
        "count = rdd.count()\n",
        "print(f\"Count: {count}\")"
      ],
      "metadata": {
        "colab": {
          "base_uri": "https://localhost:8080/"
        },
        "id": "XCq0pwVNG2p6",
        "outputId": "5142b870-3818-4788-90c3-bf780353854b"
      },
      "execution_count": 15,
      "outputs": [
        {
          "output_type": "stream",
          "name": "stdout",
          "text": [
            "Count: 50\n"
          ]
        }
      ]
    },
    {
      "cell_type": "code",
      "source": [
        "#avg\n",
        "average = total_sum / count if count > 0 else 0\n",
        "print(f\"Average: {average}\")"
      ],
      "metadata": {
        "colab": {
          "base_uri": "https://localhost:8080/"
        },
        "id": "UNF9vO9IG7T8",
        "outputId": "53af0334-a8ab-491c-ea3f-df000d199025"
      },
      "execution_count": 16,
      "outputs": [
        {
          "output_type": "stream",
          "name": "stdout",
          "text": [
            "Average: 25.5\n"
          ]
        }
      ]
    },
    {
      "cell_type": "code",
      "source": [
        "#Min\n",
        "minimum = rdd.min()\n",
        "print(f\"Minimum: {minimum}\")"
      ],
      "metadata": {
        "colab": {
          "base_uri": "https://localhost:8080/"
        },
        "id": "8yAXhz2pG9xf",
        "outputId": "314d9c4c-9386-4541-98c3-9c7d2f64d0dd"
      },
      "execution_count": 17,
      "outputs": [
        {
          "output_type": "stream",
          "name": "stdout",
          "text": [
            "Minimum: 1\n"
          ]
        }
      ]
    },
    {
      "cell_type": "code",
      "source": [
        "#Max\n",
        "maximum = rdd.max()\n",
        "print(f\"Maximum: {maximum}\")"
      ],
      "metadata": {
        "colab": {
          "base_uri": "https://localhost:8080/"
        },
        "id": "K8mBVh0cHBCn",
        "outputId": "d24d5323-45fa-4d59-ffcc-5dff9ea004f1"
      },
      "execution_count": 18,
      "outputs": [
        {
          "output_type": "stream",
          "name": "stdout",
          "text": [
            "Maximum: 50\n"
          ]
        }
      ]
    },
    {
      "cell_type": "code",
      "source": [
        "# count the number of even and odd numbers in the RDD\n",
        "even_numbers = rdd.filter(lambda x: x % 2 == 0).count()\n",
        "odd_numbers = rdd.filter(lambda x: x % 2 != 0).count()\n",
        "print(f\"ODD Numbers: {odd_numbers} EVEN Numbers: {even_numbers}\")"
      ],
      "metadata": {
        "colab": {
          "base_uri": "https://localhost:8080/"
        },
        "id": "woisCcQsHDJf",
        "outputId": "db73aeb3-9b7d-43f8-eb2e-73786ddee229"
      },
      "execution_count": 19,
      "outputs": [
        {
          "output_type": "stream",
          "name": "stdout",
          "text": [
            "ODD Numbers: 25 EVEN Numbers: 25\n"
          ]
        }
      ]
    },
    {
      "cell_type": "code",
      "source": [
        "people_data = [(\"Nada \", 25), (\"Mona\", 30), (\"Ahmed\", 35), (\"Khaled\", 40),(\"Ahmed\", 35), ('Nada ', 25)]\n",
        "rdd_people = sc.parallelize(people_data)\n",
        "rdd_people.collect()"
      ],
      "metadata": {
        "colab": {
          "base_uri": "https://localhost:8080/"
        },
        "id": "jcrtiny3H3u_",
        "outputId": "7d74670c-9d76-47fb-b195-d334b6232994"
      },
      "execution_count": 21,
      "outputs": [
        {
          "output_type": "execute_result",
          "data": {
            "text/plain": [
              "[('Nada ', 25),\n",
              " ('Mona', 30),\n",
              " ('Ahmed', 35),\n",
              " ('Khaled', 40),\n",
              " ('Ahmed', 35),\n",
              " ('Nada ', 25)]"
            ]
          },
          "metadata": {},
          "execution_count": 21
        }
      ]
    },
    {
      "cell_type": "code",
      "source": [
        "# Find the oldest person\n",
        "oldest_person = rdd_people.max(key=lambda x: x[1])\n",
        "print(oldest_person)"
      ],
      "metadata": {
        "colab": {
          "base_uri": "https://localhost:8080/"
        },
        "id": "8pkoXqKsIitX",
        "outputId": "415464f5-131e-4696-f644-f276f57f12b6"
      },
      "execution_count": 22,
      "outputs": [
        {
          "output_type": "stream",
          "name": "stdout",
          "text": [
            "('Khaled', 40)\n"
          ]
        }
      ]
    },
    {
      "cell_type": "code",
      "source": [
        "# compute average age\n",
        "ages = rdd_people.map(lambda x: x[1])\n",
        "total_sum = ages.sum()\n",
        "count = ages.count()\n",
        "average = total_sum / count\n",
        "print(average)"
      ],
      "metadata": {
        "colab": {
          "base_uri": "https://localhost:8080/"
        },
        "id": "xIWXDz7IIx1Z",
        "outputId": "0da88075-966f-4a14-d67b-de8d77de908b"
      },
      "execution_count": 23,
      "outputs": [
        {
          "output_type": "stream",
          "name": "stdout",
          "text": [
            "31.666666666666668\n"
          ]
        }
      ]
    },
    {
      "cell_type": "code",
      "source": [
        "# Group all the names by their age\n",
        "grouped = rdd_people.keyBy(lambda x: x[1]).groupByKey().map(lambda x: (x[0], list(x[1]))).collect()\n",
        "print(grouped)"
      ],
      "metadata": {
        "colab": {
          "base_uri": "https://localhost:8080/"
        },
        "id": "BKX6so0VKBn5",
        "outputId": "c3457217-37ed-4205-eef1-37eb3e399e98"
      },
      "execution_count": 24,
      "outputs": [
        {
          "output_type": "stream",
          "name": "stdout",
          "text": [
            "[(30, [('Mona', 30)]), (40, [('Khaled', 40)]), (25, [('Nada ', 25), ('Nada ', 25)]), (35, [('Ahmed', 35), ('Ahmed', 35)])]\n"
          ]
        }
      ]
    },
    {
      "cell_type": "code",
      "source": [
        "import os\n",
        "\n",
        "# Write the text to a file\n",
        "os.makedirs(\"data\", exist_ok=True)  # Create the data directory if it doesn't exist\n",
        "with open(\"data/russia.txt\", \"w\") as file:\n",
        "    file.write(\"Russia is the largest country in the world by land area\\n\")\n",
        "    file.write(\"Moscow is the capital city of Russia\\n\")\n",
        "    file.write(\"The Russian language is one of the most widely spoken languages in the world\\n\")\n",
        "    file.write(\"Russia is known for its rich history and culture\\n\")\n",
        "    file.write(\"The Trans-Siberian Railway is the longest railway line in the world\\n\")\n",
        "    file.write(\"Russia has a strong tradition in literature, music and ballet\\n\")\n",
        "    file.write(\"The country is famous for its cold winters and vast landscapes\\n\")\n",
        "    file.write(\"Russia is a major player in global energy production\")\n",
        "\n",
        "# Load the file into an RDD\n",
        "rdd_russia = sc.textFile(\"data/russia.txt\")\n",
        "\n",
        "# Collect and display the RDD content\n",
        "print(rdd_russia.collect())"
      ],
      "metadata": {
        "colab": {
          "base_uri": "https://localhost:8080/"
        },
        "id": "-TcrVEeaKXFs",
        "outputId": "0dc33792-d8c2-42d9-f802-4f2cd2304a41"
      },
      "execution_count": 29,
      "outputs": [
        {
          "output_type": "stream",
          "name": "stdout",
          "text": [
            "['Russia is the largest country in the world by land area', 'Moscow is the capital city of Russia', 'The Russian language is one of the most widely spoken languages in the world', 'Russia is known for its rich history and culture', 'The Trans-Siberian Railway is the longest railway line in the world', 'Russia has a strong tradition in literature, music and ballet', 'The country is famous for its cold winters and vast landscapes', 'Russia is a major player in global energy production']\n"
          ]
        }
      ]
    },
    {
      "cell_type": "code",
      "source": [
        "# Count the total number of lines\n",
        "total_lines = rdd_russia.count()\n",
        "print(\"Total number of lines:\", total_lines)"
      ],
      "metadata": {
        "colab": {
          "base_uri": "https://localhost:8080/"
        },
        "id": "MTlV93LeLVXc",
        "outputId": "cfbbe904-fc2d-4084-fcb8-07092270ad89"
      },
      "execution_count": 30,
      "outputs": [
        {
          "output_type": "stream",
          "name": "stdout",
          "text": [
            "Total number of lines: 8\n"
          ]
        }
      ]
    },
    {
      "cell_type": "code",
      "source": [
        "# Count how many lines contain the word \"Russia\"\n",
        "lines_with_russia = rdd_russia.filter(lambda line: \"Russia\" in line).count()\n",
        "print(\"Lines containing the word 'Russia':\", lines_with_russia)"
      ],
      "metadata": {
        "colab": {
          "base_uri": "https://localhost:8080/"
        },
        "id": "QHp0_cFYLv1L",
        "outputId": "b833a253-00de-4b12-8791-4a179dd9eb31"
      },
      "execution_count": 31,
      "outputs": [
        {
          "output_type": "stream",
          "name": "stdout",
          "text": [
            "Lines containing the word 'Russia': 6\n"
          ]
        }
      ]
    },
    {
      "cell_type": "code",
      "source": [
        "# Find the 5 most frequent words\n",
        "words = rdd_russia.flatMap(lambda line: line.lower().split()) \\\n",
        "                 .map(lambda word: (word.strip(\".,!?:;\\\"'\"), 1)) \\\n",
        "                 .reduceByKey(lambda a, b: a + b) \\\n",
        "                 .sortBy(lambda x: x[1], ascending=False) \\\n",
        "                 .take(5)\n",
        "print(\"Top 5 frequent words:\", words)"
      ],
      "metadata": {
        "colab": {
          "base_uri": "https://localhost:8080/"
        },
        "id": "9qtO-MYdL2Ln",
        "outputId": "175d6b7e-00d7-47b3-e716-4905962c9d48"
      },
      "execution_count": 32,
      "outputs": [
        {
          "output_type": "stream",
          "name": "stdout",
          "text": [
            "Top 5 frequent words: [('the', 10), ('is', 7), ('russia', 5), ('in', 5), ('world', 3)]\n"
          ]
        }
      ]
    },
    {
      "cell_type": "code",
      "source": [
        "# Tokenize words\n",
        "tokenized_words = rdd_russia.flatMap(lambda line: line.lower().split())\n",
        "print(\"Tokenized words:\")\n",
        "print(tokenized_words.collect())"
      ],
      "metadata": {
        "colab": {
          "base_uri": "https://localhost:8080/"
        },
        "id": "zeVYdPe7L64K",
        "outputId": "5703ba24-6bc3-44e6-f320-312006c654f2"
      },
      "execution_count": 33,
      "outputs": [
        {
          "output_type": "stream",
          "name": "stdout",
          "text": [
            "Tokenized words:\n",
            "['russia', 'is', 'the', 'largest', 'country', 'in', 'the', 'world', 'by', 'land', 'area', 'moscow', 'is', 'the', 'capital', 'city', 'of', 'russia', 'the', 'russian', 'language', 'is', 'one', 'of', 'the', 'most', 'widely', 'spoken', 'languages', 'in', 'the', 'world', 'russia', 'is', 'known', 'for', 'its', 'rich', 'history', 'and', 'culture', 'the', 'trans-siberian', 'railway', 'is', 'the', 'longest', 'railway', 'line', 'in', 'the', 'world', 'russia', 'has', 'a', 'strong', 'tradition', 'in', 'literature,', 'music', 'and', 'ballet', 'the', 'country', 'is', 'famous', 'for', 'its', 'cold', 'winters', 'and', 'vast', 'landscapes', 'russia', 'is', 'a', 'major', 'player', 'in', 'global', 'energy', 'production']\n"
          ]
        }
      ]
    },
    {
      "cell_type": "code",
      "source": [
        "# Remove stopwords (a, the, is, to, in, of)\n",
        "stopwords = {\"a\", \"the\", \"is\", \"to\", \"in\", \"of\"}\n",
        "filtered_words = tokenized_words.filter(lambda word: word not in stopwords)\n",
        "print(\"Remove stopwords (a, the, is, to, in, of):\")\n",
        "print(filtered_words.collect())"
      ],
      "metadata": {
        "colab": {
          "base_uri": "https://localhost:8080/"
        },
        "id": "aURgqwS2MQYX",
        "outputId": "f60bbf99-1db0-4e1f-de56-bbb271a01ae5"
      },
      "execution_count": 34,
      "outputs": [
        {
          "output_type": "stream",
          "name": "stdout",
          "text": [
            "Remove stopwords (a, the, is, to, in, of):\n",
            "['russia', 'largest', 'country', 'world', 'by', 'land', 'area', 'moscow', 'capital', 'city', 'russia', 'russian', 'language', 'one', 'most', 'widely', 'spoken', 'languages', 'world', 'russia', 'known', 'for', 'its', 'rich', 'history', 'and', 'culture', 'trans-siberian', 'railway', 'longest', 'railway', 'line', 'world', 'russia', 'has', 'strong', 'tradition', 'literature,', 'music', 'and', 'ballet', 'country', 'famous', 'for', 'its', 'cold', 'winters', 'and', 'vast', 'landscapes', 'russia', 'major', 'player', 'global', 'energy', 'production']\n"
          ]
        }
      ]
    },
    {
      "cell_type": "code",
      "source": [
        "# Count the frequency of each word\n",
        "word_counts = filtered_words.map(lambda word: (word, 1)).reduceByKey(lambda a, b: a + b).collect()\n",
        "print(\"Count the frequency of each word:\")\n",
        "print(word_counts)"
      ],
      "metadata": {
        "colab": {
          "base_uri": "https://localhost:8080/"
        },
        "id": "q-CTijM0MTU0",
        "outputId": "f021f329-23c2-403a-d944-0a41dd8e40c8"
      },
      "execution_count": 35,
      "outputs": [
        {
          "output_type": "stream",
          "name": "stdout",
          "text": [
            "Count the frequency of each word:\n",
            "[('largest', 1), ('country', 2), ('world', 3), ('by', 1), ('land', 1), ('area', 1), ('capital', 1), ('russian', 1), ('language', 1), ('most', 1), ('widely', 1), ('known', 1), ('for', 2), ('history', 1), ('and', 3), ('line', 1), ('literature,', 1), ('music', 1), ('famous', 1), ('cold', 1), ('winters', 1), ('landscapes', 1), ('player', 1), ('energy', 1), ('production', 1), ('russia', 5), ('moscow', 1), ('city', 1), ('one', 1), ('spoken', 1), ('languages', 1), ('its', 2), ('rich', 1), ('culture', 1), ('trans-siberian', 1), ('railway', 2), ('longest', 1), ('has', 1), ('strong', 1), ('tradition', 1), ('ballet', 1), ('vast', 1), ('major', 1), ('global', 1)]\n"
          ]
        }
      ]
    },
    {
      "cell_type": "code",
      "source": [
        "schema = 'id integer, name string, age integer, salary integer'\n",
        "data = [\n",
        "    (1, \"Ali\", 25, 4000),\n",
        "    (2, \"Mariam\", 30, 6000),\n",
        "    (3, \"Omar\", 35, 7000),\n",
        "    (4, \"Sara\", 28, 5000),\n",
        "    (5, \"Omar\", 25, 6500),\n",
        "    (6, \"Mariam\", 26, 7500)\n",
        "]\n",
        "\n",
        "df = spark.createDataFrame(data,schema)"
      ],
      "metadata": {
        "id": "s0LVHi_hMYbE"
      },
      "execution_count": 36,
      "outputs": []
    },
    {
      "cell_type": "code",
      "source": [
        "# Show schema and first 2 rows\n",
        "df.printSchema()\n",
        "df.show(2)"
      ],
      "metadata": {
        "colab": {
          "base_uri": "https://localhost:8080/"
        },
        "id": "aR_lwNylMdB7",
        "outputId": "e7eda21f-cc42-489f-950b-b40b9bd572b5"
      },
      "execution_count": 37,
      "outputs": [
        {
          "output_type": "stream",
          "name": "stdout",
          "text": [
            "root\n",
            " |-- id: integer (nullable = true)\n",
            " |-- name: string (nullable = true)\n",
            " |-- age: integer (nullable = true)\n",
            " |-- salary: integer (nullable = true)\n",
            "\n",
            "+---+------+---+------+\n",
            "| id|  name|age|salary|\n",
            "+---+------+---+------+\n",
            "|  1|   Ali| 25|  4000|\n",
            "|  2|Mariam| 30|  6000|\n",
            "+---+------+---+------+\n",
            "only showing top 2 rows\n",
            "\n"
          ]
        }
      ]
    },
    {
      "cell_type": "code",
      "source": [
        "# Select only name and salary columns\n",
        "name_salary_df = df.select(\"name\", \"salary\")\n",
        "name_salary_df.show()"
      ],
      "metadata": {
        "colab": {
          "base_uri": "https://localhost:8080/"
        },
        "id": "S9dmg2jRMvMx",
        "outputId": "a1e7cf36-a6f1-4d91-8476-f3f6a556eca9"
      },
      "execution_count": 38,
      "outputs": [
        {
          "output_type": "stream",
          "name": "stdout",
          "text": [
            "+------+------+\n",
            "|  name|salary|\n",
            "+------+------+\n",
            "|   Ali|  4000|\n",
            "|Mariam|  6000|\n",
            "|  Omar|  7000|\n",
            "|  Sara|  5000|\n",
            "|  Omar|  6500|\n",
            "|Mariam|  7500|\n",
            "+------+------+\n",
            "\n"
          ]
        }
      ]
    },
    {
      "cell_type": "code",
      "source": [
        "# Find the average salary\n",
        "average_salary = df.groupBy().avg(\"salary\").collect()[0][0]\n",
        "print(\"Average salary:\", average_salary)"
      ],
      "metadata": {
        "colab": {
          "base_uri": "https://localhost:8080/"
        },
        "id": "aZIO5Y6zNCv-",
        "outputId": "e3f936f2-7673-4313-977a-2190e1ec6cbb"
      },
      "execution_count": 44,
      "outputs": [
        {
          "output_type": "stream",
          "name": "stdout",
          "text": [
            "Average salary: 6000.0\n"
          ]
        }
      ]
    },
    {
      "cell_type": "code",
      "source": [
        "# Filter employees older than 28\n",
        "older_than_28 = df.filter(df.age > 28)\n",
        "older_than_28.show()"
      ],
      "metadata": {
        "colab": {
          "base_uri": "https://localhost:8080/"
        },
        "id": "rWAHqmthNFgY",
        "outputId": "b3996cf8-313d-453f-a182-e6204bfbe2a8"
      },
      "execution_count": 40,
      "outputs": [
        {
          "output_type": "stream",
          "name": "stdout",
          "text": [
            "+---+------+---+------+\n",
            "| id|  name|age|salary|\n",
            "+---+------+---+------+\n",
            "|  2|Mariam| 30|  6000|\n",
            "|  3|  Omar| 35|  7000|\n",
            "+---+------+---+------+\n",
            "\n"
          ]
        }
      ]
    },
    {
      "cell_type": "code",
      "source": [
        "# Count distinct values in the name column\n",
        "distinct_names_count = df.select(\"name\").distinct().count()\n",
        "print(\"Distinct values in the name column:\", distinct_names_count)"
      ],
      "metadata": {
        "colab": {
          "base_uri": "https://localhost:8080/"
        },
        "id": "zcmTOzEnNV28",
        "outputId": "de05c6ff-6f2a-47c6-e66c-26ccd27dfa29"
      },
      "execution_count": 41,
      "outputs": [
        {
          "output_type": "stream",
          "name": "stdout",
          "text": [
            "Distinct values in the name column: 4\n"
          ]
        }
      ]
    },
    {
      "cell_type": "code",
      "source": [
        "# Group by name column and find average salary\n",
        "avg_salary_by_name = df.groupBy(\"name\").avg(\"salary\")\n",
        "avg_salary_by_name.show()"
      ],
      "metadata": {
        "colab": {
          "base_uri": "https://localhost:8080/"
        },
        "id": "G1MFCqQRNYwU",
        "outputId": "1b020d89-252b-4cbb-86f3-abaf154ed543"
      },
      "execution_count": 42,
      "outputs": [
        {
          "output_type": "stream",
          "name": "stdout",
          "text": [
            "+------+-----------+\n",
            "|  name|avg(salary)|\n",
            "+------+-----------+\n",
            "|  Omar|     6750.0|\n",
            "|Mariam|     6750.0|\n",
            "|   Ali|     4000.0|\n",
            "|  Sara|     5000.0|\n",
            "+------+-----------+\n",
            "\n"
          ]
        }
      ]
    },
    {
      "cell_type": "code",
      "source": [
        "from pyspark.sql import SparkSession\n",
        "spark = SparkSession.builder.appName(\"ColabSpark\").getOrCreate()\n",
        "data = [\n",
        "    (\"emp1\", \"John\", None),\n",
        "    (\"emp2\", None, None),\n",
        "    (\"emp3\", None, 345.0),\n",
        "    (\"emp4\", \"Cindy\", 456.0)\n",
        "]\n",
        "columns = [\"Id\", \"Name\", \"Sales\"]\n",
        "df1 = spark.createDataFrame(data, columns)\n",
        "\n",
        "# Show the DataFrame\n",
        "df1.show()"
      ],
      "metadata": {
        "colab": {
          "base_uri": "https://localhost:8080/"
        },
        "id": "Q9t9MoGMRClS",
        "outputId": "f22d7ccb-54e9-49ba-c42a-a390446b2572"
      },
      "execution_count": 54,
      "outputs": [
        {
          "output_type": "stream",
          "name": "stdout",
          "text": [
            "+----+-----+-----+\n",
            "|  Id| Name|Sales|\n",
            "+----+-----+-----+\n",
            "|emp1| John| NULL|\n",
            "|emp2| NULL| NULL|\n",
            "|emp3| NULL|345.0|\n",
            "|emp4|Cindy|456.0|\n",
            "+----+-----+-----+\n",
            "\n"
          ]
        }
      ]
    },
    {
      "cell_type": "code",
      "source": [
        "# Find the average sales\n",
        "avg_sales = df1.agg({\"Sales\": \"avg\"}).collect()[0][0]\n",
        "print(\"Average sales:\", avg_sales)"
      ],
      "metadata": {
        "colab": {
          "base_uri": "https://localhost:8080/"
        },
        "id": "FS9LeDAcRMdf",
        "outputId": "7020292c-fa30-484d-aa5e-a765ecbc2752"
      },
      "execution_count": 55,
      "outputs": [
        {
          "output_type": "stream",
          "name": "stdout",
          "text": [
            "Average sales: 400.5\n"
          ]
        }
      ]
    },
    {
      "cell_type": "code",
      "source": [
        "# Replace null name with 'Unknown' and null sales with the average sales\n",
        "df_replaced = df1.na.fill({\"Name\": \"Unknown\", \"Sales\": avg_sales})\n",
        "df_replaced.show()"
      ],
      "metadata": {
        "colab": {
          "base_uri": "https://localhost:8080/"
        },
        "id": "gLcZvLmSRVXl",
        "outputId": "9c2238c4-040c-456f-d170-886b0a1ae91f"
      },
      "execution_count": 57,
      "outputs": [
        {
          "output_type": "stream",
          "name": "stdout",
          "text": [
            "+----+-------+-----+\n",
            "|  Id|   Name|Sales|\n",
            "+----+-------+-----+\n",
            "|emp1|   John|400.5|\n",
            "|emp2|Unknown|400.5|\n",
            "|emp3|Unknown|345.0|\n",
            "|emp4|  Cindy|456.0|\n",
            "+----+-------+-----+\n",
            "\n"
          ]
        }
      ]
    }
  ]
}